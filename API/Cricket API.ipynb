{
 "cells": [
  {
   "cell_type": "markdown",
   "metadata": {},
   "source": [
    "## Introduction\n",
    " - In this file we use Cricket API for finding the information of cricketer."
   ]
  },
  {
   "cell_type": "markdown",
   "metadata": {},
   "source": [
    "#### API URL --> https://cricapi.com"
   ]
  },
  {
   "cell_type": "markdown",
   "metadata": {},
   "source": [
    "### Importing all the necessary libraries."
   ]
  },
  {
   "cell_type": "code",
   "execution_count": 1,
   "metadata": {},
   "outputs": [],
   "source": [
    "import requests\n",
    "import json \n",
    "from pprint import pprint\n",
    "import pandas as pd\n",
    "import IPython.display as Disp"
   ]
  },
  {
   "cell_type": "code",
   "execution_count": 2,
   "metadata": {},
   "outputs": [
    {
     "name": "stdout",
     "output_type": "stream",
     "text": [
      "Enter Player's Lastname: Dhoni\n"
     ]
    },
    {
     "data": {
      "image/jpeg": "[encoded data removed]",
      "text/plain": [
       "<IPython.core.display.Image object>"
      ]
     },
     "metadata": {},
     "output_type": "display_data"
    },
    {
     "name": "stdout",
     "output_type": "stream",
     "text": [
      "\n",
      "fullName --> Mahendra Singh Dhoni\n",
      "\n",
      "born --> July 7, 1981, Ranchi, Bihar (now Jharkhand)\n",
      "\n",
      "country --> India\n",
      "\n",
      "majorTeams --> India,Asia XI,Bihar,Chennai Super Kings,Jharkhand,Rising Pune Supergiants\n",
      "\n",
      "playingRole --> Wicketkeeper batsman\n",
      "\n",
      "battingStyle --> Right-hand bat\n",
      "\n",
      "bowlingStyle --> Right-arm medium\n",
      "\n",
      "\n",
      "       listA firstClass T20Is   ODIs tests\n",
      "10         0          0     -      0     0\n",
      "5w         0          0     -      0     0\n",
      "4w         0          0     -      0     0\n",
      "SR      31.5          -     -   36.0     -\n",
      "Econ    5.04       4.14     -   5.16  4.18\n",
      "Ave    26.50          -     -  31.00     -\n",
      "BBM     1/14          -     -   1/14     -\n",
      "BBI     1/14          -     -   1/14     -\n",
      "Wkts       2          0     -      1     0\n",
      "Runs      53         87     -     31    67\n",
      "Balls     63        126     -     36    96\n",
      "Inns                        -      2     7\n",
      "Mat      381        131    80    308    90\n",
      "\n",
      "\n",
      "      listA firstClass   T20Is   ODIs  tests\n",
      "50       80         47       1     66     33\n",
      "100      17          9       0     10      6\n",
      "St      121         57      24    103     38\n",
      "Ct      369        364      43    288    256\n",
      "6s                          36    213     78\n",
      "4s                          84    752    544\n",
      "SR                      122.62  88.45  59.11\n",
      "BF                         999  11080   8249\n",
      "Ave   51.37      36.84   35.00  51.85  38.09\n",
      "HS     183*        224      56   183*    224\n",
      "Runs  12381       7038    1225   9801   4876\n",
      "NO       91         19      34     76     16\n",
      "Inns    332        210      69    265    144\n",
      "Mat     381        131      80    308     90\n"
     ]
    }
   ],
   "source": [
    "key ='21GiETSidRPGMVad8jHOPuWCQY32'\n",
    "\n",
    "Name = input(\"Enter Player's Lastname: \")\n",
    "\n",
    "url = f\"https://cricapi.com/api/playerFinder?apikey={key}&name={Name}\"\n",
    "\n",
    "resp = requests.get(url)\n",
    "\n",
    "if resp.status_code == 200:\n",
    "    data = resp.json()\n",
    "    pid = data['data'][0]['pid']\n",
    "    \n",
    "    url1 = f\"https://cricapi.com/api/playerStats?apikey={key}&pid={pid}\"\n",
    "    resp1 = requests.get(url1)\n",
    "    \n",
    "    if resp1.status_code == 200:\n",
    "        data1 = resp1.json()\n",
    "        img = data1['imageURL']\n",
    "        display(Disp.Image(requests.get(img).content))\n",
    "        print()\n",
    "        \n",
    "        details = ['fullName', 'born', 'country', 'majorTeams', 'playingRole','battingStyle','bowlingStyle']\n",
    "        \n",
    "        for i in details:\n",
    "            print(f'{i} --> {data1[i]}')\n",
    "            print()\n",
    "        \n",
    "        df=pd.DataFrame(data1['data']['bowling'])\n",
    "        df1=pd.DataFrame(data1['data']['batting'])\n",
    "        \n",
    "        print(f\"\\n{df}\")\n",
    "        \n",
    "        print()\n",
    "        \n",
    "        print(f\"\\n{df1}\")\n",
    "    else:\n",
    "        print(\"Invalid\")\n",
    "\n",
    "else:\n",
    "    print('Invallid URL')\n",
    "      "
   ]
  },
  {
   "cell_type": "code",
   "execution_count": null,
   "metadata": {},
   "outputs": [],
   "source": []
  }
 ],
 "metadata": {
  "kernelspec": {
   "display_name": "Python 3",
   "language": "python",
   "name": "python3"
  },
  "language_info": {
   "codemirror_mode": {
    "name": "ipython",
    "version": 3
   },
   "file_extension": ".py",
   "mimetype": "text/x-python",
   "name": "python",
   "nbconvert_exporter": "python",
   "pygments_lexer": "ipython3",
   "version": "3.8.5"
  }
 },
 "nbformat": 4,
 "nbformat_minor": 4
}
